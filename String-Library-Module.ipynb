{
  "cells": [
    {
      "metadata": {
        "ExecuteTime": {
          "start_time": "2020-01-19T17:12:38.866653Z",
          "end_time": "2020-01-19T17:12:38.884335Z"
        },
        "trusted": true
      },
      "cell_type": "code",
      "source": "import random\nimport string\nimport secrets",
      "execution_count": 2,
      "outputs": []
    },
    {
      "metadata": {
        "ExecuteTime": {
          "start_time": "2020-01-19T17:16:33.521515Z",
          "end_time": "2020-01-19T17:16:33.553755Z"
        },
        "trusted": true
      },
      "cell_type": "code",
      "source": "def rand(n):\n    alphabet = string.ascii_letters+string.digits\n    return \"\".join(random.choice(alphabet) for i in range(n))\nprint(\"Two Random Letters: \")\nrand(20)",
      "execution_count": 14,
      "outputs": [
        {
          "output_type": "stream",
          "text": "Two Random Letters: \n",
          "name": "stdout"
        },
        {
          "output_type": "execute_result",
          "execution_count": 14,
          "data": {
            "text/plain": "'sdtfsIIhutEBulNJwCiX'"
          },
          "metadata": {}
        }
      ]
    },
    {
      "metadata": {
        "ExecuteTime": {
          "start_time": "2020-01-19T17:19:39.987186Z",
          "end_time": "2020-01-19T17:19:40.014382Z"
        },
        "trusted": true
      },
      "cell_type": "code",
      "source": "def sec(n):\n    alphabet = string.ascii_letters+string.digits+string.punctuation\n    return \"\".join(secrets.choice(alphabet) for i in range(n))\nprint(\"Two Random Letters: \")\nsec(20)",
      "execution_count": 20,
      "outputs": [
        {
          "output_type": "stream",
          "text": "Two Random Letters: \n",
          "name": "stdout"
        },
        {
          "output_type": "execute_result",
          "execution_count": 20,
          "data": {
            "text/plain": "'t_zOlGnRwVR~B8]TGpYb'"
          },
          "metadata": {}
        }
      ]
    },
    {
      "metadata": {
        "ExecuteTime": {
          "start_time": "2020-01-19T17:19:14.453155Z",
          "end_time": "2020-01-19T17:19:14.474554Z"
        },
        "trusted": true
      },
      "cell_type": "code",
      "source": "print(string.ascii_letters)\nprint(string.ascii_uppercase)\nprint(string.hexdigits)\nprint(string.printable)\nprint(string.punctuation)\nprint(string.whitespace)",
      "execution_count": 18,
      "outputs": [
        {
          "output_type": "stream",
          "text": "abcdefghijklmnopqrstuvwxyzABCDEFGHIJKLMNOPQRSTUVWXYZ\nABCDEFGHIJKLMNOPQRSTUVWXYZ\n0123456789abcdefABCDEF\n0123456789abcdefghijklmnopqrstuvwxyzABCDEFGHIJKLMNOPQRSTUVWXYZ!\"#$%&'()*+,-./:;<=>?@[\\]^_`{|}~ \t\n\r\u000b\f\n!\"#$%&'()*+,-./:;<=>?@[\\]^_`{|}~\n \t\n\r\u000b\f\n",
          "name": "stdout"
        }
      ]
    },
    {
      "metadata": {
        "trusted": true
      },
      "cell_type": "code",
      "source": "",
      "execution_count": null,
      "outputs": []
    }
  ],
  "metadata": {
    "kernelspec": {
      "name": "python36",
      "display_name": "Python 3.6",
      "language": "python"
    },
    "language_info": {
      "mimetype": "text/x-python",
      "nbconvert_exporter": "python",
      "name": "python",
      "pygments_lexer": "ipython3",
      "version": "3.6.6",
      "file_extension": ".py",
      "codemirror_mode": {
        "version": 3,
        "name": "ipython"
      }
    },
    "toc": {
      "nav_menu": {},
      "number_sections": true,
      "sideBar": true,
      "skip_h1_title": false,
      "base_numbering": 1,
      "title_cell": "Table of Contents",
      "title_sidebar": "Contents",
      "toc_cell": false,
      "toc_position": {},
      "toc_section_display": true,
      "toc_window_display": false
    },
    "varInspector": {
      "window_display": false,
      "cols": {
        "lenName": 16,
        "lenType": 16,
        "lenVar": 40
      },
      "kernels_config": {
        "python": {
          "library": "var_list.py",
          "delete_cmd_prefix": "del ",
          "delete_cmd_postfix": "",
          "varRefreshCmd": "print(var_dic_list())"
        },
        "r": {
          "library": "var_list.r",
          "delete_cmd_prefix": "rm(",
          "delete_cmd_postfix": ") ",
          "varRefreshCmd": "cat(var_dic_list()) "
        }
      },
      "types_to_exclude": [
        "module",
        "function",
        "builtin_function_or_method",
        "instance",
        "_Feature"
      ]
    }
  },
  "nbformat": 4,
  "nbformat_minor": 2
}